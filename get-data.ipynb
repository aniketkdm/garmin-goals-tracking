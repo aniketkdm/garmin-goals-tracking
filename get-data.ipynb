{
 "cells": [
  {
   "cell_type": "code",
   "execution_count": 7,
   "metadata": {},
   "outputs": [],
   "source": [
    "#!/usr/bin/env python3\n",
    "\n",
    "from garminconnect import (\n",
    "    Garmin,\n",
    "    GarminConnectConnectionError,\n",
    "    GarminConnectTooManyRequestsError,\n",
    "    GarminConnectAuthenticationError,\n",
    ")\n",
    "\n",
    "from datetime import date\n",
    "\n",
    "\n",
    "\"\"\"\n",
    "Enable debug logging\n",
    "\"\"\"\n",
    "#import logging\n",
    "#logging.basicConfig(level=logging.DEBUG)\n",
    "\n",
    "today = date.today()\n",
    "\n",
    "def login(email, password):\n",
    "    try:\n",
    "        client = Garmin(email, password)\n",
    "    except (\n",
    "    GarminConnectConnectionError,\n",
    "    GarminConnectAuthenticationError,\n",
    "    GarminConnectTooManyRequestsError,\n",
    "    ) as err:\n",
    "        print(\"Error occurred during Garmin Connect Client init: %s\" % err)\n",
    "        return err\n",
    "    except Exception:  # pylint: disable=broad-except\n",
    "        print(\"Unknown error occurred during Garmin Connect Client init\")\n",
    "        return\n",
    "    return client"
   ]
  },
  {
   "cell_type": "code",
   "execution_count": 9,
   "metadata": {},
   "outputs": [],
   "source": [
    "client = login(\"aniketkdm@gmail.com\",\"ShriGanesha_17\")\n",
    "\n",
    "\n",
    "\"\"\"\n",
    "Login to Garmin Connect portal\n",
    "Only needed at start of your program\n",
    "The library will try to relogin when session expires\n",
    "\"\"\"\n",
    "try:\n",
    "    client.login()\n",
    "except (\n",
    "    GarminConnectConnectionError,\n",
    "    GarminConnectAuthenticationError,\n",
    "    GarminConnectTooManyRequestsError,\n",
    ") as err:\n",
    "    print(\"Error occurred during Garmin Connect Client login: %s\" % err)\n",
    "    quit()\n",
    "except Exception:  # pylint: disable=broad-except\n",
    "    print(\"Unknown error occurred during Garmin Connect Client login\")\n",
    "    quit()"
   ]
  },
  {
   "cell_type": "code",
   "execution_count": 10,
   "metadata": {},
   "outputs": [
    {
     "name": "stdout",
     "output_type": "stream",
     "text": [
      "Aniket Kadam\n"
     ]
    }
   ],
   "source": [
    "\"\"\"\n",
    "Get full name from profile\n",
    "\"\"\"\n",
    "try:\n",
    "    print(client.get_full_name())\n",
    "except (\n",
    "    GarminConnectConnectionError,\n",
    "    GarminConnectAuthenticationError,\n",
    "    GarminConnectTooManyRequestsError,\n",
    ") as err:\n",
    "    print(\"Error occurred during Garmin Connect Client get full name: %s\" % err)\n",
    "    quit()\n",
    "except Exception:  # pylint: disable=broad-except\n",
    "    print(\"Unknown error occurred during Garmin Connect Client get full name\")\n",
    "    quit()"
   ]
  },
  {
   "cell_type": "code",
   "execution_count": 12,
   "metadata": {},
   "outputs": [
    {
     "name": "stdout",
     "output_type": "stream",
     "text": [
      "[{'activityId': 5056365203, 'activityName': 'Pilates', 'description': None, 'startTimeLocal': '2020-06-07 21:13:01', 'startTimeGMT': '2020-06-08 02:13:01', 'activityType': {'typeId': 160, 'typeKey': 'pilates', 'parentTypeId': 29, 'sortOrder': 88}, 'eventType': {'typeId': 9, 'typeKey': 'uncategorized', 'sortOrder': 10}, 'comments': None, 'parentId': None, 'distance': 0.0, 'duration': 1388.907, 'elapsedDuration': 1388907.0, 'movingDuration': 0.0, 'elevationGain': None, 'elevationLoss': None, 'averageSpeed': 0.0, 'maxSpeed': None, 'startLatitude': None, 'startLongitude': None, 'hasPolyline': False, 'ownerId': 64950442, 'ownerDisplayName': 'e85fc5ce-106b-43d7-971b-ff9a8f6f08c8', 'ownerFullName': 'Aniket Kadam', 'ownerProfileImageUrlSmall': 'https://s3.amazonaws.com/garmin-connect-prod/profile_images/f9fec1e1-36ef-4377-8d35-4500725f13cf-64950442.png', 'ownerProfileImageUrlMedium': 'https://s3.amazonaws.com/garmin-connect-prod/profile_images/98665c0c-0487-4ec5-b4c9-cf32587131bd-64950442.png', 'ownerProfileImageUrlLarge': 'https://s3.amazonaws.com/garmin-connect-prod/profile_images/dbd60303-e8dc-4994-a73e-e00672d03a35-64950442.png', 'calories': 121.0, 'averageHR': 107.0, 'maxHR': 146.0, 'averageRunningCadenceInStepsPerMinute': 16.546875, 'maxRunningCadenceInStepsPerMinute': 213.0, 'averageBikingCadenceInRevPerMinute': None, 'maxBikingCadenceInRevPerMinute': None, 'averageSwimCadenceInStrokesPerMinute': None, 'maxSwimCadenceInStrokesPerMinute': None, 'averageSwolf': None, 'activeLengths': None, 'steps': 494, 'conversationUuid': None, 'conversationPk': None, 'numberOfActivityLikes': None, 'numberOfActivityComments': None, 'likedByUser': None, 'commentedByUser': None, 'activityLikeDisplayNames': None, 'activityLikeFullNames': None, 'requestorRelationship': None, 'userRoles': ['ROLE_CONNECTUSER', 'ROLE_FITNESS_USER', 'ROLE_WELLNESS_USER', 'ROLE_OUTDOOR_USER', 'ROLE_CONNECT_2_USER'], 'privacy': {'typeId': 2, 'typeKey': 'private'}, 'userPro': False, 'courseId': None, 'poolLength': None, 'unitOfPoolLength': None, 'hasVideo': False, 'videoUrl': None, 'timeZoneId': 152, 'beginTimestamp': 1591582381000, 'sportTypeId': 0, 'avgPower': None, 'maxPower': None, 'aerobicTrainingEffect': None, 'anaerobicTrainingEffect': None, 'strokes': None, 'normPower': None, 'leftBalance': None, 'rightBalance': None, 'avgLeftBalance': None, 'max20MinPower': None, 'avgVerticalOscillation': None, 'avgGroundContactTime': None, 'avgStrideLength': 0.0, 'avgFractionalCadence': None, 'maxFractionalCadence': None, 'trainingStressScore': None, 'intensityFactor': None, 'vO2MaxValue': None, 'avgVerticalRatio': None, 'avgGroundContactBalance': None, 'lactateThresholdBpm': None, 'lactateThresholdSpeed': None, 'maxFtp': None, 'avgStrokeDistance': None, 'avgStrokeCadence': None, 'maxStrokeCadence': None, 'workoutId': None, 'avgStrokes': None, 'minStrokes': None, 'deviceId': 3309319487, 'minTemperature': None, 'maxTemperature': None, 'minElevation': None, 'maxElevation': None, 'avgDoubleCadence': None, 'maxDoubleCadence': 213.0, 'summarizedExerciseSets': None, 'maxDepth': None, 'avgDepth': None, 'surfaceInterval': None, 'startN2': None, 'endN2': None, 'startCns': None, 'endCns': None, 'summarizedDiveInfo': {'weight': None, 'weightUnit': None, 'visibility': None, 'visibilityUnit': None, 'surfaceCondition': None, 'current': None, 'waterType': None, 'waterDensity': None, 'summarizedDiveGases': [], 'totalSurfaceTime': None}, 'activityLikeAuthors': None, 'avgVerticalSpeed': 0.0, 'maxVerticalSpeed': None, 'floorsClimbed': None, 'floorsDescended': None, 'manufacturer': None, 'diveNumber': None, 'locationName': None, 'bottomTime': None, 'lapCount': 4, 'endLatitude': None, 'endLongitude': None, 'minAirSpeed': None, 'maxAirSpeed': None, 'avgAirSpeed': None, 'avgWindYawAngle': None, 'minCda': None, 'maxCda': None, 'avgCda': None, 'avgWattsPerCda': None, 'flow': None, 'grit': None, 'jumpCount': None, 'caloriesEstimated': None, 'caloriesConsumed': None, 'waterEstimated': 138.0, 'waterConsumed': None, 'maxAvgPower_1': None, 'maxAvgPower_2': None, 'maxAvgPower_5': None, 'maxAvgPower_10': None, 'maxAvgPower_20': None, 'maxAvgPower_30': None, 'maxAvgPower_60': None, 'maxAvgPower_120': None, 'maxAvgPower_300': None, 'maxAvgPower_600': None, 'maxAvgPower_1200': None, 'maxAvgPower_1800': None, 'maxAvgPower_3600': None, 'maxAvgPower_7200': None, 'maxAvgPower_18000': None, 'excludeFromPowerCurveReports': None, 'totalSets': None, 'activeSets': None, 'totalReps': None, 'minRespirationRate': None, 'maxRespirationRate': None, 'avgRespirationRate': None, 'trainingEffectLabel': None, 'activityTrainingLoad': None, 'avgFlow': None, 'avgGrit': None, 'minActivityLapDuration': 38.16, 'startStress': 0.0, 'endStress': 0.0, 'differenceStress': 0.0, 'aerobicTrainingEffectMessage': None, 'anaerobicTrainingEffectMessage': None, 'splitSummaries': [], 'hasSplits': False, 'favorite': False, 'pr': False, 'autoCalcCalories': False, 'parent': False, 'atpActivity': False, 'purposeful': False, 'elevationCorrected': False, 'decoDive': False}]\n"
     ]
    }
   ],
   "source": [
    "\"\"\"\n",
    "Get activities data\n",
    "\"\"\"\n",
    "try:\n",
    "    activities = client.get_activities(0,1) # 0=start, 1=limit\n",
    "    print(activities)\n",
    "except (\n",
    "    GarminConnectConnectionError,\n",
    "    GarminConnectAuthenticationError,\n",
    "    GarminConnectTooManyRequestsError,\n",
    ") as err:\n",
    "    print(\"Error occurred during Garmin Connect Client get activities: %s\" % err)\n",
    "    quit()\n",
    "except Exception:  # pylint: disable=broad-except\n",
    "    print(\"Unknown error occurred during Garmin Connect Client get activities\")\n",
    "    quit()\n",
    "    \n"
   ]
  },
  {
   "cell_type": "code",
   "execution_count": null,
   "metadata": {},
   "outputs": [],
   "source": []
  }
 ],
 "metadata": {
  "kernelspec": {
   "display_name": "Python 3",
   "language": "python",
   "name": "python3"
  },
  "language_info": {
   "codemirror_mode": {
    "name": "ipython",
    "version": 3
   },
   "file_extension": ".py",
   "mimetype": "text/x-python",
   "name": "python",
   "nbconvert_exporter": "python",
   "pygments_lexer": "ipython3",
   "version": "3.7.7"
  }
 },
 "nbformat": 4,
 "nbformat_minor": 4
}
